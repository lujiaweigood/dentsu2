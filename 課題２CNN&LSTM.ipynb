{
 "cells": [
  {
   "cell_type": "code",
   "execution_count": 58,
   "metadata": {},
   "outputs": [],
   "source": [
    "#必要なライブラリをインポート\n",
    "import pandas as pd\n",
    "import numpy as np\n",
    "np.random.seed(1337)\n",
    "import pandas as pd\n",
    "import keras\n",
    "from keras.preprocessing.text import Tokenizer\n",
    "from keras.preprocessing.sequence import pad_sequences\n",
    "from keras.utils import to_categorical\n",
    "from keras.layers import Dense, Input, Flatten, Dropout, Add\n",
    "from keras.layers import Conv1D, MaxPooling1D, Embedding,Conv2D\n",
    "from keras.models import Model\n",
    "from keras.callbacks import EarlyStopping\n",
    "import gensim\n",
    "import nltk\n",
    "from nltk.tokenize import RegexpTokenizer\n",
    "from nltk.corpus import stopwords\n",
    "import re\n",
    "import codecs\n",
    "import matplotlib.pyplot as plt\n",
    "from keras.layers import Concatenate\n",
    "from subprocess import check_output\n",
    "\n",
    "\n",
    "stop_words = (stopwords.words('english'))[:]\n",
    "stop_words.extend([\"#ff\", \"ff\", \"rt\"])\n",
    "stop_words.remove('not')\n",
    "stop_words.remove('no')\n"
   ]
  },
  {
   "cell_type": "code",
   "execution_count": 59,
   "metadata": {},
   "outputs": [],
   "source": [
    "import pandas as pd\n",
    "\n",
    "\n",
    "df1 = pd.read_csv(\"labeled_data.csv\", index_col=False)\n",
    "df1.drop(['Unnamed: 0'], axis=1, inplace=True)\n",
    "df1.sort_index(inplace=True)\n",
    "\n",
    "df2 = pd.read_csv('hatespeech-train.csv',index_col=False)\n",
    "df2.drop(['Unnamed: 0'], axis=1, inplace=True)\n",
    "df_test = pd.read_csv('hatespeech-test.csv',index_col=False)\n",
    "df_test.drop(['Unnamed: 0'], axis=1, inplace=True)"
   ]
  },
  {
   "cell_type": "code",
   "execution_count": 60,
   "metadata": {},
   "outputs": [],
   "source": [
    "df= pd.concat([df1.tweet,df2.tweet])\n",
    "add=[]\n",
    "for idx, i in enumerate(df):\n",
    "    for j in df_test.tweet:\n",
    "        if i==j:\n",
    "            add.append(idx)\n",
    "y=pd.concat([df1[\"class\"],df2[\"class\"]])"
   ]
  },
  {
   "cell_type": "code",
   "execution_count": 61,
   "metadata": {},
   "outputs": [
    {
     "name": "stdout",
     "output_type": "stream",
     "text": [
      "重複データあり\n"
     ]
    }
   ],
   "source": [
    "if add !=[]:\n",
    "    print(\"重複データあり\")"
   ]
  },
  {
   "cell_type": "code",
   "execution_count": 62,
   "metadata": {},
   "outputs": [],
   "source": [
    "#除去\n",
    "df0 = df.iloc[list(set(range(len(df.values)))  - set(add))]\n",
    "y=  y.iloc[list(set(range(len(df.values)))  - set(add))]"
   ]
  },
  {
   "cell_type": "code",
   "execution_count": 63,
   "metadata": {},
   "outputs": [],
   "source": [
    "df=df0"
   ]
  },
  {
   "cell_type": "code",
   "execution_count": 64,
   "metadata": {},
   "outputs": [],
   "source": [
    "df.reset_index(inplace=True,drop=True)"
   ]
  },
  {
   "cell_type": "code",
   "execution_count": 65,
   "metadata": {},
   "outputs": [],
   "source": [
    "y.reset_index(inplace=True,drop=True)\n",
    "df_train= pd.concat([df, y],axis=1)"
   ]
  },
  {
   "cell_type": "code",
   "execution_count": null,
   "metadata": {},
   "outputs": [],
   "source": []
  },
  {
   "cell_type": "code",
   "execution_count": 66,
   "metadata": {},
   "outputs": [],
   "source": [
    "#Nan値除去\n",
    "df_train= df_train[~df_train.isnull().any(axis=1)]\n",
    "y= y[~df_train.isnull().any(axis=1)]"
   ]
  },
  {
   "cell_type": "code",
   "execution_count": 67,
   "metadata": {},
   "outputs": [],
   "source": [
    "df_train.columns=['text','class']"
   ]
  },
  {
   "cell_type": "code",
   "execution_count": 68,
   "metadata": {},
   "outputs": [],
   "source": [
    "df_test.columns= [\"count\",\"hate_speech\",\"offensive_language\",\"neither\",\"class\",\"text\"]"
   ]
  },
  {
   "cell_type": "code",
   "execution_count": 69,
   "metadata": {},
   "outputs": [
    {
     "data": {
      "text/plain": [
       "text     7375\n",
       "class    7375\n",
       "dtype: int64"
      ]
     },
     "execution_count": 69,
     "metadata": {},
     "output_type": "execute_result"
    }
   ],
   "source": [
    "df_train[df_train[\"class\"]==2].count()"
   ]
  },
  {
   "cell_type": "code",
   "execution_count": 70,
   "metadata": {},
   "outputs": [],
   "source": [
    "add0= df_train[df_train[\"class\"]==0].sample(20646,replace=True)\n",
    "add2= df_train[df_train[\"class\"]==2].sample(15825,replace=True)"
   ]
  },
  {
   "cell_type": "code",
   "execution_count": 71,
   "metadata": {},
   "outputs": [],
   "source": [
    "df_train= pd.concat([df_train,add0,add2])"
   ]
  },
  {
   "cell_type": "code",
   "execution_count": 72,
   "metadata": {},
   "outputs": [
    {
     "data": {
      "text/plain": [
       "<matplotlib.axes._subplots.AxesSubplot at 0x1b69b44080>"
      ]
     },
     "execution_count": 72,
     "metadata": {},
     "output_type": "execute_result"
    },
    {
     "data": {
      "image/png": "[encoded data removed]",
      "text/plain": [
       "<Figure size 432x288 with 1 Axes>"
      ]
     },
     "metadata": {
      "needs_background": "light"
     },
     "output_type": "display_data"
    }
   ],
   "source": [
    "df_train[\"class\"].hist()"
   ]
  },
  {
   "cell_type": "code",
   "execution_count": 73,
   "metadata": {},
   "outputs": [],
   "source": [
    "from keras.utils import to_categorical\n",
    "encoded = to_categorical(df_train['class'])\n",
    "encoded2= to_categorical(df_test['class'])\n",
    "y_e = pd.DataFrame(encoded)\n",
    "y_e.columns=[\"hate_speech\", \"offensive_language\", \"neither\"]\n",
    "y_e2 = pd.DataFrame(encoded2)\n",
    "y_e2.columns=[\"hate_speech\", \"offensive_language\", \"neither\"]\n",
    "df_train.reset_index(inplace=True,drop=True)\n",
    "df_train = pd.concat([df_train[\"text\"],y_e],axis=1)\n",
    "df_test = pd.concat([df_test[\"text\"],y_e2],axis=1)"
   ]
  },
  {
   "cell_type": "code",
   "execution_count": null,
   "metadata": {},
   "outputs": [],
   "source": []
  },
  {
   "cell_type": "code",
   "execution_count": null,
   "metadata": {},
   "outputs": [],
   "source": []
  },
  {
   "cell_type": "code",
   "execution_count": 74,
   "metadata": {},
   "outputs": [],
   "source": [
    "EMBEDDING_DIM = 300\n",
    "MAX_VOCAB_SIZE = 24000\n",
    "MAX_SEQUENCE_LENGTH = 83\n",
    "\n",
    "batch_size = 64"
   ]
  },
  {
   "cell_type": "code",
   "execution_count": 75,
   "metadata": {},
   "outputs": [],
   "source": [
    "def standardize_text(df, text_field):\n",
    "    df[text_field] = df[text_field].str.replace(r\"http\\S+\", \"\")\n",
    "    df[text_field] = df[text_field].str.replace(r\"http\", \"\")\n",
    "    df[text_field] = df[text_field].str.replace(r\"@\\S+\", \"\")\n",
    "    df[text_field] = df[text_field].str.replace(r\"[^A-Za-z0-9(),!?@\\'\\`\\\"\\_\\n]\", \" \")\n",
    "    df[text_field] = df[text_field].str.replace(r\"@\", \"\")\n",
    "    df[text_field] = df[text_field].str.replace(r\"!\", \"\")\n",
    "    df[text_field] = df[text_field].str.lower()\n",
    "    df[text_field] = df[text_field].str.replace(r\"http[s]?://(?:[a-zA-Z]|[0-9]|[$-_@.&+]|''[!*\\(\\),]|(?:%[0-9a-fA-F][0-9a-fA-F]))+\", \" \")\n",
    "    df[text_field] = df[text_field].str.replace(r\"@[\\w\\-]+\", \" \")\n",
    "    df[text_field] = df[text_field].str.replace(r'\\s+', ' ')\n",
    "    df[text_field] = df[text_field].str.replace(r'^[! ]*RT', '')\n",
    "    df[text_field] = df[text_field].str.replace(r'^[! ]*rt', '')\n",
    "    return df"
   ]
  },
  {
   "cell_type": "code",
   "execution_count": 76,
   "metadata": {},
   "outputs": [
    {
     "data": {
      "text/html": [
       "<div>\n",
       "<style scoped>\n",
       "    .dataframe tbody tr th:only-of-type {\n",
       "        vertical-align: middle;\n",
       "    }\n",
       "\n",
       "    .dataframe tbody tr th {\n",
       "        vertical-align: top;\n",
       "    }\n",
       "\n",
       "    .dataframe thead th {\n",
       "        text-align: right;\n",
       "    }\n",
       "</style>\n",
       "<table border=\"1\" class=\"dataframe\">\n",
       "  <thead>\n",
       "    <tr style=\"text-align: right;\">\n",
       "      <th></th>\n",
       "      <th>text</th>\n",
       "      <th>hate_speech</th>\n",
       "      <th>offensive_language</th>\n",
       "      <th>neither</th>\n",
       "    </tr>\n",
       "  </thead>\n",
       "  <tbody>\n",
       "    <tr>\n",
       "      <th>0</th>\n",
       "      <td>as a woman you shouldn't complain about clean...</td>\n",
       "      <td>0.0</td>\n",
       "      <td>0.0</td>\n",
       "      <td>1.0</td>\n",
       "    </tr>\n",
       "    <tr>\n",
       "      <th>1</th>\n",
       "      <td>boy dats cold tyga dwn bad for cuffin dat hoe...</td>\n",
       "      <td>0.0</td>\n",
       "      <td>1.0</td>\n",
       "      <td>0.0</td>\n",
       "    </tr>\n",
       "    <tr>\n",
       "      <th>2</th>\n",
       "      <td>dawg rt you ever fuck a bitch and she start t...</td>\n",
       "      <td>0.0</td>\n",
       "      <td>1.0</td>\n",
       "      <td>0.0</td>\n",
       "    </tr>\n",
       "    <tr>\n",
       "      <th>3</th>\n",
       "      <td>she look like a tranny</td>\n",
       "      <td>0.0</td>\n",
       "      <td>1.0</td>\n",
       "      <td>0.0</td>\n",
       "    </tr>\n",
       "    <tr>\n",
       "      <th>4</th>\n",
       "      <td>the shit you hear about me might be true or i...</td>\n",
       "      <td>0.0</td>\n",
       "      <td>1.0</td>\n",
       "      <td>0.0</td>\n",
       "    </tr>\n",
       "  </tbody>\n",
       "</table>\n",
       "</div>"
      ],
      "text/plain": [
       "                                                text  hate_speech  \\\n",
       "0   as a woman you shouldn't complain about clean...          0.0   \n",
       "1   boy dats cold tyga dwn bad for cuffin dat hoe...          0.0   \n",
       "2   dawg rt you ever fuck a bitch and she start t...          0.0   \n",
       "3                             she look like a tranny          0.0   \n",
       "4   the shit you hear about me might be true or i...          0.0   \n",
       "\n",
       "   offensive_language  neither  \n",
       "0                 0.0      1.0  \n",
       "1                 1.0      0.0  \n",
       "2                 1.0      0.0  \n",
       "3                 1.0      0.0  \n",
       "4                 1.0      0.0  "
      ]
     },
     "execution_count": 76,
     "metadata": {},
     "output_type": "execute_result"
    }
   ],
   "source": [
    "train_comments = standardize_text(df_train, \"text\")\n",
    "train_comments.to_csv(\"train_clean_data.csv\")\n",
    "train_comments.head()"
   ]
  },
  {
   "cell_type": "code",
   "execution_count": null,
   "metadata": {},
   "outputs": [],
   "source": []
  },
  {
   "cell_type": "code",
   "execution_count": 77,
   "metadata": {},
   "outputs": [],
   "source": [
    "label_names = [\"hate_speech\", \"offensive_language\", \"neither\"]\n",
    "y_train = train_comments[label_names].values"
   ]
  },
  {
   "cell_type": "code",
   "execution_count": 78,
   "metadata": {},
   "outputs": [
    {
     "data": {
      "text/html": [
       "<div>\n",
       "<style scoped>\n",
       "    .dataframe tbody tr th:only-of-type {\n",
       "        vertical-align: middle;\n",
       "    }\n",
       "\n",
       "    .dataframe tbody tr th {\n",
       "        vertical-align: top;\n",
       "    }\n",
       "\n",
       "    .dataframe thead th {\n",
       "        text-align: right;\n",
       "    }\n",
       "</style>\n",
       "<table border=\"1\" class=\"dataframe\">\n",
       "  <thead>\n",
       "    <tr style=\"text-align: right;\">\n",
       "      <th></th>\n",
       "      <th>text</th>\n",
       "      <th>hate_speech</th>\n",
       "      <th>offensive_language</th>\n",
       "      <th>neither</th>\n",
       "    </tr>\n",
       "  </thead>\n",
       "  <tbody>\n",
       "    <tr>\n",
       "      <th>0</th>\n",
       "      <td>still really confused re humplayproblems i thi...</td>\n",
       "      <td>1.0</td>\n",
       "      <td>0.0</td>\n",
       "      <td>0.0</td>\n",
       "    </tr>\n",
       "    <tr>\n",
       "      <th>1</th>\n",
       "      <td>stoni is a fuckin queer</td>\n",
       "      <td>1.0</td>\n",
       "      <td>0.0</td>\n",
       "      <td>0.0</td>\n",
       "    </tr>\n",
       "    <tr>\n",
       "      <th>2</th>\n",
       "      <td>stu a rape faced faggot man i'm sick of this n...</td>\n",
       "      <td>1.0</td>\n",
       "      <td>0.0</td>\n",
       "      <td>0.0</td>\n",
       "    </tr>\n",
       "    <tr>\n",
       "      <th>3</th>\n",
       "      <td>stuck up serious bitches are possibly the wors...</td>\n",
       "      <td>1.0</td>\n",
       "      <td>0.0</td>\n",
       "      <td>0.0</td>\n",
       "    </tr>\n",
       "    <tr>\n",
       "      <th>4</th>\n",
       "      <td>stupid teabagger restaurant making customers p...</td>\n",
       "      <td>1.0</td>\n",
       "      <td>0.0</td>\n",
       "      <td>0.0</td>\n",
       "    </tr>\n",
       "  </tbody>\n",
       "</table>\n",
       "</div>"
      ],
      "text/plain": [
       "                                                text  hate_speech  \\\n",
       "0  still really confused re humplayproblems i thi...          1.0   \n",
       "1                           stoni is a fuckin queer           1.0   \n",
       "2  stu a rape faced faggot man i'm sick of this n...          1.0   \n",
       "3  stuck up serious bitches are possibly the wors...          1.0   \n",
       "4  stupid teabagger restaurant making customers p...          1.0   \n",
       "\n",
       "   offensive_language  neither  \n",
       "0                 0.0      0.0  \n",
       "1                 0.0      0.0  \n",
       "2                 0.0      0.0  \n",
       "3                 0.0      0.0  \n",
       "4                 0.0      0.0  "
      ]
     },
     "execution_count": 78,
     "metadata": {},
     "output_type": "execute_result"
    }
   ],
   "source": [
    "test_comments = standardize_text(df_test, \"text\")\n",
    "test_comments.to_csv(\"test_clean_data.csv\")\n",
    "test_comments.head()"
   ]
  },
  {
   "cell_type": "code",
   "execution_count": 79,
   "metadata": {},
   "outputs": [],
   "source": [
    "label_names = [\"hate_speech\", \"offensive_language\", \"neither\"]\n",
    "y_test = test_comments[label_names].values"
   ]
  },
  {
   "cell_type": "code",
   "execution_count": null,
   "metadata": {},
   "outputs": [],
   "source": []
  },
  {
   "cell_type": "code",
   "execution_count": 80,
   "metadata": {},
   "outputs": [
    {
     "data": {
      "text/html": [
       "<div>\n",
       "<style scoped>\n",
       "    .dataframe tbody tr th:only-of-type {\n",
       "        vertical-align: middle;\n",
       "    }\n",
       "\n",
       "    .dataframe tbody tr th {\n",
       "        vertical-align: top;\n",
       "    }\n",
       "\n",
       "    .dataframe thead th {\n",
       "        text-align: right;\n",
       "    }\n",
       "</style>\n",
       "<table border=\"1\" class=\"dataframe\">\n",
       "  <thead>\n",
       "    <tr style=\"text-align: right;\">\n",
       "      <th></th>\n",
       "      <th>Unnamed: 0</th>\n",
       "      <th>text</th>\n",
       "      <th>hate_speech</th>\n",
       "      <th>offensive_language</th>\n",
       "      <th>neither</th>\n",
       "      <th>tokens</th>\n",
       "    </tr>\n",
       "  </thead>\n",
       "  <tbody>\n",
       "    <tr>\n",
       "      <th>0</th>\n",
       "      <td>0</td>\n",
       "      <td>as a woman you shouldn't complain about clean...</td>\n",
       "      <td>0.0</td>\n",
       "      <td>0.0</td>\n",
       "      <td>1.0</td>\n",
       "      <td>[woman, complain, cleaning, house, amp, man, a...</td>\n",
       "    </tr>\n",
       "    <tr>\n",
       "      <th>1</th>\n",
       "      <td>1</td>\n",
       "      <td>boy dats cold tyga dwn bad for cuffin dat hoe...</td>\n",
       "      <td>0.0</td>\n",
       "      <td>1.0</td>\n",
       "      <td>0.0</td>\n",
       "      <td>[boy, dats, cold, tyga, dwn, bad, cuffin, dat,...</td>\n",
       "    </tr>\n",
       "    <tr>\n",
       "      <th>2</th>\n",
       "      <td>2</td>\n",
       "      <td>dawg rt you ever fuck a bitch and she start t...</td>\n",
       "      <td>0.0</td>\n",
       "      <td>1.0</td>\n",
       "      <td>0.0</td>\n",
       "      <td>[dawg, ever, fuck, bitch, start, cry, confused...</td>\n",
       "    </tr>\n",
       "    <tr>\n",
       "      <th>3</th>\n",
       "      <td>3</td>\n",
       "      <td>she look like a tranny</td>\n",
       "      <td>0.0</td>\n",
       "      <td>1.0</td>\n",
       "      <td>0.0</td>\n",
       "      <td>[look, like, tranny]</td>\n",
       "    </tr>\n",
       "    <tr>\n",
       "      <th>4</th>\n",
       "      <td>4</td>\n",
       "      <td>the shit you hear about me might be true or i...</td>\n",
       "      <td>0.0</td>\n",
       "      <td>1.0</td>\n",
       "      <td>0.0</td>\n",
       "      <td>[shit, hear, might, true, might, faker, bitch,...</td>\n",
       "    </tr>\n",
       "  </tbody>\n",
       "</table>\n",
       "</div>"
      ],
      "text/plain": [
       "   Unnamed: 0                                               text  hate_speech  \\\n",
       "0           0   as a woman you shouldn't complain about clean...          0.0   \n",
       "1           1   boy dats cold tyga dwn bad for cuffin dat hoe...          0.0   \n",
       "2           2   dawg rt you ever fuck a bitch and she start t...          0.0   \n",
       "3           3                             she look like a tranny          0.0   \n",
       "4           4   the shit you hear about me might be true or i...          0.0   \n",
       "\n",
       "   offensive_language  neither  \\\n",
       "0                 0.0      1.0   \n",
       "1                 1.0      0.0   \n",
       "2                 1.0      0.0   \n",
       "3                 1.0      0.0   \n",
       "4                 1.0      0.0   \n",
       "\n",
       "                                              tokens  \n",
       "0  [woman, complain, cleaning, house, amp, man, a...  \n",
       "1  [boy, dats, cold, tyga, dwn, bad, cuffin, dat,...  \n",
       "2  [dawg, ever, fuck, bitch, start, cry, confused...  \n",
       "3                               [look, like, tranny]  \n",
       "4  [shit, hear, might, true, might, faker, bitch,...  "
      ]
     },
     "execution_count": 80,
     "metadata": {},
     "output_type": "execute_result"
    }
   ],
   "source": [
    "tokenizer = RegexpTokenizer(r'\\w+')\n",
    "clean_train_comments = pd.read_csv(\"train_clean_data.csv\")\n",
    "clean_train_comments['text'] = clean_train_comments['text'].astype('str') \n",
    "clean_train_comments.dtypes\n",
    "clean_train_comments[\"tokens\"] = clean_train_comments[\"text\"].apply(tokenizer.tokenize)\n",
    "\n",
    "clean_train_comments[\"tokens\"] = clean_train_comments[\"tokens\"].apply(lambda vec: [word for word in vec if word not in stop_words])\n",
    "   \n",
    "clean_train_comments.head()"
   ]
  },
  {
   "cell_type": "code",
   "execution_count": 81,
   "metadata": {},
   "outputs": [
    {
     "data": {
      "text/html": [
       "<div>\n",
       "<style scoped>\n",
       "    .dataframe tbody tr th:only-of-type {\n",
       "        vertical-align: middle;\n",
       "    }\n",
       "\n",
       "    .dataframe tbody tr th {\n",
       "        vertical-align: top;\n",
       "    }\n",
       "\n",
       "    .dataframe thead th {\n",
       "        text-align: right;\n",
       "    }\n",
       "</style>\n",
       "<table border=\"1\" class=\"dataframe\">\n",
       "  <thead>\n",
       "    <tr style=\"text-align: right;\">\n",
       "      <th></th>\n",
       "      <th>Unnamed: 0</th>\n",
       "      <th>text</th>\n",
       "      <th>hate_speech</th>\n",
       "      <th>offensive_language</th>\n",
       "      <th>neither</th>\n",
       "      <th>tokens</th>\n",
       "    </tr>\n",
       "  </thead>\n",
       "  <tbody>\n",
       "    <tr>\n",
       "      <th>0</th>\n",
       "      <td>0</td>\n",
       "      <td>still really confused re humplayproblems i thi...</td>\n",
       "      <td>1.0</td>\n",
       "      <td>0.0</td>\n",
       "      <td>0.0</td>\n",
       "      <td>[still, really, confused, humplayproblems, thi...</td>\n",
       "    </tr>\n",
       "    <tr>\n",
       "      <th>1</th>\n",
       "      <td>1</td>\n",
       "      <td>stoni is a fuckin queer</td>\n",
       "      <td>1.0</td>\n",
       "      <td>0.0</td>\n",
       "      <td>0.0</td>\n",
       "      <td>[stoni, fuckin, queer]</td>\n",
       "    </tr>\n",
       "    <tr>\n",
       "      <th>2</th>\n",
       "      <td>2</td>\n",
       "      <td>stu a rape faced faggot man i'm sick of this n...</td>\n",
       "      <td>1.0</td>\n",
       "      <td>0.0</td>\n",
       "      <td>0.0</td>\n",
       "      <td>[stu, rape, faced, faggot, man, sick, nigga]</td>\n",
       "    </tr>\n",
       "    <tr>\n",
       "      <th>3</th>\n",
       "      <td>3</td>\n",
       "      <td>stuck up serious bitches are possibly the wors...</td>\n",
       "      <td>1.0</td>\n",
       "      <td>0.0</td>\n",
       "      <td>0.0</td>\n",
       "      <td>[stuck, serious, bitches, possibly, worst, typ...</td>\n",
       "    </tr>\n",
       "    <tr>\n",
       "      <th>4</th>\n",
       "      <td>4</td>\n",
       "      <td>stupid teabagger restaurant making customers p...</td>\n",
       "      <td>1.0</td>\n",
       "      <td>0.0</td>\n",
       "      <td>0.0</td>\n",
       "      <td>[stupid, teabagger, restaurant, making, custom...</td>\n",
       "    </tr>\n",
       "  </tbody>\n",
       "</table>\n",
       "</div>"
      ],
      "text/plain": [
       "   Unnamed: 0                                               text  hate_speech  \\\n",
       "0           0  still really confused re humplayproblems i thi...          1.0   \n",
       "1           1                           stoni is a fuckin queer           1.0   \n",
       "2           2  stu a rape faced faggot man i'm sick of this n...          1.0   \n",
       "3           3  stuck up serious bitches are possibly the wors...          1.0   \n",
       "4           4  stupid teabagger restaurant making customers p...          1.0   \n",
       "\n",
       "   offensive_language  neither  \\\n",
       "0                 0.0      0.0   \n",
       "1                 0.0      0.0   \n",
       "2                 0.0      0.0   \n",
       "3                 0.0      0.0   \n",
       "4                 0.0      0.0   \n",
       "\n",
       "                                              tokens  \n",
       "0  [still, really, confused, humplayproblems, thi...  \n",
       "1                             [stoni, fuckin, queer]  \n",
       "2       [stu, rape, faced, faggot, man, sick, nigga]  \n",
       "3  [stuck, serious, bitches, possibly, worst, typ...  \n",
       "4  [stupid, teabagger, restaurant, making, custom...  "
      ]
     },
     "execution_count": 81,
     "metadata": {},
     "output_type": "execute_result"
    }
   ],
   "source": [
    "clean_test_comments = pd.read_csv(\"test_clean_data.csv\")\n",
    "clean_test_comments['text'] = clean_test_comments['text'].astype('str') \n",
    "clean_test_comments.dtypes\n",
    "clean_test_comments[\"tokens\"] = clean_test_comments[\"text\"].apply(tokenizer.tokenize)\n",
    "clean_test_comments[\"tokens\"] = clean_test_comments[\"tokens\"].apply(lambda vec: [word for word in vec if word not in stop_words])\n",
    "\n",
    "clean_test_comments.head()"
   ]
  },
  {
   "cell_type": "code",
   "execution_count": 82,
   "metadata": {},
   "outputs": [
    {
     "name": "stdout",
     "output_type": "stream",
     "text": [
      "581074 単語数, 語彙総数 20431\n",
      "文の最大長さ 83\n"
     ]
    }
   ],
   "source": [
    "all_training_words = [word for tokens in clean_train_comments[\"tokens\"] for word in tokens]\n",
    "training_sentence_lengths = [len(tokens) for tokens in clean_train_comments[\"tokens\"]]\n",
    "TRAINING_VOCAB = sorted(list(set(all_training_words)))\n",
    "print(\"%s 単語数, 語彙総数 %s\" % (len(all_training_words), len(TRAINING_VOCAB)))\n",
    "print(\"文の最大長さ %s\" % max(training_sentence_lengths))"
   ]
  },
  {
   "cell_type": "code",
   "execution_count": 83,
   "metadata": {},
   "outputs": [
    {
     "name": "stdout",
     "output_type": "stream",
     "text": [
      "7699 単語数, 語彙総数 2962\n",
      "文の最大長さ 23\n"
     ]
    }
   ],
   "source": [
    "all_test_words = [word for tokens in clean_test_comments[\"tokens\"] for word in tokens]\n",
    "test_sentence_lengths = [len(tokens) for tokens in clean_test_comments[\"tokens\"]]\n",
    "TEST_VOCAB = sorted(list(set(all_test_words)))\n",
    "print(\"%s 単語数, 語彙総数 %s\" % (len(all_test_words), len(TEST_VOCAB)))\n",
    "print(\"文の最大長さ %s\" % max(test_sentence_lengths))"
   ]
  },
  {
   "cell_type": "code",
   "execution_count": 84,
   "metadata": {},
   "outputs": [],
   "source": [
    "word2vec_path = \"GoogleNews-vectors-negative300.bin\"\n",
    "word2vec = gensim.models.KeyedVectors.load_word2vec_format(word2vec_path, binary=True)\n",
    "\n",
    "def get_average_word2vec(tokens_list, vector, generate_missing=False, k=300):\n",
    "    if len(tokens_list)<1:\n",
    "        return np.zeros(k)\n",
    "    if generate_missing:\n",
    "        vectorized = [vector[word] if word in vector else np.random.rand(k) for word in tokens_list]\n",
    "    else:\n",
    "        vectorized = [vector[word] if word in vector else np.zeros(k) for word in tokens_list]\n",
    "    length = len(vectorized)\n",
    "    summed = np.sum(vectorized, axis=0)\n",
    "    averaged = np.divide(summed, length)\n",
    "    return averaged\n"
   ]
  },
  {
   "cell_type": "code",
   "execution_count": null,
   "metadata": {},
   "outputs": [],
   "source": []
  },
  {
   "cell_type": "code",
   "execution_count": 85,
   "metadata": {},
   "outputs": [
    {
     "name": "stdout",
     "output_type": "stream",
     "text": [
      "21205 ユニックなトークン\n",
      "(21206, 300)\n"
     ]
    }
   ],
   "source": [
    "tokenizer = Tokenizer(num_words=MAX_VOCAB_SIZE, lower=True, char_level=False)\n",
    "tokenizer.fit_on_texts(clean_train_comments[\"text\"].tolist())\n",
    "training_sequences = tokenizer.texts_to_sequences(clean_train_comments[\"text\"].tolist())\n",
    "\n",
    "train_word_index = tokenizer.word_index\n",
    "print('%s ユニックなトークン' % len(train_word_index))\n",
    "\n",
    "train_cnn_data = pad_sequences(training_sequences, maxlen=MAX_SEQUENCE_LENGTH)\n",
    "\n",
    "train_embedding_weights = np.zeros((len(train_word_index)+1, EMBEDDING_DIM))\n",
    "for word,index in train_word_index.items():\n",
    "    train_embedding_weights[index,:] = word2vec[word] if word in word2vec else np.random.rand(EMBEDDING_DIM)\n",
    "print(train_embedding_weights.shape)"
   ]
  },
  {
   "cell_type": "code",
   "execution_count": 86,
   "metadata": {},
   "outputs": [],
   "source": [
    "test_sequences = tokenizer.texts_to_sequences(clean_test_comments[\"text\"].tolist())\n",
    "test_cnn_data = pad_sequences(test_sequences, maxlen=MAX_SEQUENCE_LENGTH)"
   ]
  },
  {
   "cell_type": "code",
   "execution_count": 87,
   "metadata": {},
   "outputs": [],
   "source": [
    "def ConvNet(embeddings, max_sequence_length, num_words, embedding_dim, labels_index, trainable=False):\n",
    "    \n",
    "    embedding_layer = Embedding(num_words,\n",
    "                            embedding_dim,\n",
    "                            weights=[embeddings],\n",
    "                            input_length=max_sequence_length,\n",
    "                            trainable=trainable)\n",
    "\n",
    "    sequence_input = Input(shape=(max_sequence_length,), dtype='int32')\n",
    "    embedded_sequences = embedding_layer(sequence_input)\n",
    "\n",
    "    convs = []\n",
    "    filter_sizes = [3,4,5]\n",
    "\n",
    "    for filter_size in filter_sizes:\n",
    "        l_conv = Conv1D(filters=128, kernel_size=filter_size, activation='relu')(embedded_sequences)\n",
    "        l_pool = MaxPooling1D(pool_size=3)(l_conv)\n",
    "        convs.append(l_pool)\n",
    "\n",
    "    l_merge = Concatenate(axis=1)(convs)\n",
    "    x = Flatten()(l_merge)\n",
    "    x = Dense(128, activation='relu')(x)\n",
    "    preds = Dense(labels_index, activation='softmax')(x)\n",
    "\n",
    "    model = keras.models.Model(sequence_input, preds)\n",
    "    model.compile(loss='categorical_crossentropy',\n",
    "                  optimizer='rmsprop',\n",
    "                  metrics=['acc'])\n",
    "    model.summary()\n",
    "    return model"
   ]
  },
  {
   "cell_type": "code",
   "execution_count": 88,
   "metadata": {},
   "outputs": [],
   "source": [
    "x_train = train_cnn_data\n",
    "x_test = test_cnn_data"
   ]
  },
  {
   "cell_type": "code",
   "execution_count": 89,
   "metadata": {
    "scrolled": false
   },
   "outputs": [
    {
     "name": "stdout",
     "output_type": "stream",
     "text": [
      "__________________________________________________________________________________________________\n",
      "Layer (type)                    Output Shape         Param #     Connected to                     \n",
      "==================================================================================================\n",
      "input_5 (InputLayer)            (None, 83)           0                                            \n",
      "__________________________________________________________________________________________________\n",
      "embedding_5 (Embedding)         (None, 83, 300)      6361800     input_5[0][0]                    \n",
      "__________________________________________________________________________________________________\n",
      "conv1d_10 (Conv1D)              (None, 81, 128)      115328      embedding_5[0][0]                \n",
      "__________________________________________________________________________________________________\n",
      "conv1d_11 (Conv1D)              (None, 80, 128)      153728      embedding_5[0][0]                \n",
      "__________________________________________________________________________________________________\n",
      "conv1d_12 (Conv1D)              (None, 79, 128)      192128      embedding_5[0][0]                \n",
      "__________________________________________________________________________________________________\n",
      "max_pooling1d_10 (MaxPooling1D) (None, 27, 128)      0           conv1d_10[0][0]                  \n",
      "__________________________________________________________________________________________________\n",
      "max_pooling1d_11 (MaxPooling1D) (None, 26, 128)      0           conv1d_11[0][0]                  \n",
      "__________________________________________________________________________________________________\n",
      "max_pooling1d_12 (MaxPooling1D) (None, 26, 128)      0           conv1d_12[0][0]                  \n",
      "__________________________________________________________________________________________________\n",
      "concatenate_4 (Concatenate)     (None, 79, 128)      0           max_pooling1d_10[0][0]           \n",
      "                                                                 max_pooling1d_11[0][0]           \n",
      "                                                                 max_pooling1d_12[0][0]           \n",
      "__________________________________________________________________________________________________\n",
      "flatten_3 (Flatten)             (None, 10112)        0           concatenate_4[0][0]              \n",
      "__________________________________________________________________________________________________\n",
      "dense_7 (Dense)                 (None, 128)          1294464     flatten_3[0][0]                  \n",
      "__________________________________________________________________________________________________\n",
      "dense_8 (Dense)                 (None, 3)            387         dense_7[0][0]                    \n",
      "==================================================================================================\n",
      "Total params: 8,117,835\n",
      "Trainable params: 1,756,035\n",
      "Non-trainable params: 6,361,800\n",
      "__________________________________________________________________________________________________\n"
     ]
    }
   ],
   "source": [
    "model = ConvNet(train_embedding_weights, MAX_SEQUENCE_LENGTH, len(train_word_index)+1, EMBEDDING_DIM, \n",
    "                len(list(label_names)), False)"
   ]
  },
  {
   "cell_type": "code",
   "execution_count": 90,
   "metadata": {},
   "outputs": [
    {
     "name": "stdout",
     "output_type": "stream",
     "text": [
      "Train on 62640 samples, validate on 6960 samples\n",
      "Epoch 1/10\n",
      "62640/62640 [==============================] - 150s 2ms/step - loss: 0.3029 - acc: 0.8826 - val_loss: 0.1782 - val_acc: 0.9412\n",
      "Epoch 2/10\n",
      "62640/62640 [==============================] - 146s 2ms/step - loss: 0.0796 - acc: 0.9749 - val_loss: 0.0239 - val_acc: 0.9938\n",
      "Epoch 3/10\n",
      "62640/62640 [==============================] - 164s 3ms/step - loss: 0.0489 - acc: 0.9865 - val_loss: 0.0138 - val_acc: 0.9970\n",
      "Epoch 4/10\n",
      "62640/62640 [==============================] - 145s 2ms/step - loss: 0.0365 - acc: 0.9898 - val_loss: 0.0094 - val_acc: 0.9980\n",
      "Epoch 5/10\n",
      "62640/62640 [==============================] - 146s 2ms/step - loss: 0.0294 - acc: 0.9917 - val_loss: 0.0079 - val_acc: 0.9980\n",
      "Epoch 6/10\n",
      "62640/62640 [==============================] - 152s 2ms/step - loss: 0.0265 - acc: 0.9933 - val_loss: 0.0342 - val_acc: 0.9879\n",
      "Epoch 7/10\n",
      "62640/62640 [==============================] - 172s 3ms/step - loss: 0.0212 - acc: 0.9945 - val_loss: 0.0198 - val_acc: 0.9953\n",
      "Epoch 8/10\n",
      "62640/62640 [==============================] - 137s 2ms/step - loss: 0.0224 - acc: 0.9945 - val_loss: 0.0188 - val_acc: 0.9955\n",
      "Epoch 9/10\n",
      "62640/62640 [==============================] - 136s 2ms/step - loss: 0.0180 - acc: 0.9953 - val_loss: 3.7572e-04 - val_acc: 1.0000\n",
      "Epoch 10/10\n",
      "62640/62640 [==============================] - 142s 2ms/step - loss: 0.0180 - acc: 0.9956 - val_loss: 0.0204 - val_acc: 0.9948\n"
     ]
    }
   ],
   "source": [
    "hist = model.fit(x_train, y_train, epochs=10,  validation_split=0.1,shuffle=True, batch_size=batch_size)"
   ]
  },
  {
   "cell_type": "code",
   "execution_count": 91,
   "metadata": {},
   "outputs": [
    {
     "name": "stdout",
     "output_type": "stream",
     "text": [
      "1040/1040 [==============================] - 2s 2ms/step\n"
     ]
    }
   ],
   "source": [
    "y_pred = model.predict(x_test, batch_size=1024, verbose=1)"
   ]
  },
  {
   "cell_type": "code",
   "execution_count": 92,
   "metadata": {},
   "outputs": [],
   "source": [
    "\n",
    "submission_df = pd.DataFrame(columns=['id'] + label_names)\n",
    "submission_df['id'] = test_comments.index.values \n",
    "submission_df[label_names] = y_pred \n",
    "submission_df.to_csv(\"./cnn_submission.csv\", index=False)"
   ]
  },
  {
   "cell_type": "code",
   "execution_count": 93,
   "metadata": {},
   "outputs": [
    {
     "data": {
      "image/png": "[encoded data removed]",
      "text/plain": [
       "<Figure size 432x288 with 1 Axes>"
      ]
     },
     "metadata": {
      "needs_background": "light"
     },
     "output_type": "display_data"
    }
   ],
   "source": [
    "plt.figure()\n",
    "plt.plot(hist.history['loss'], lw=2.0, color='b', label='train')\n",
    "plt.plot(hist.history['val_loss'], lw=2.0, color='r', label='val')\n",
    "plt.title('CNN sentiment')\n",
    "plt.xlabel('Epochs')\n",
    "plt.ylabel('Cross-Entropy Loss')\n",
    "plt.legend(loc='upper right')\n",
    "plt.show()"
   ]
  },
  {
   "cell_type": "code",
   "execution_count": 94,
   "metadata": {},
   "outputs": [
    {
     "data": {
      "image/png": "[encoded data removed]",
      "text/plain": [
       "<Figure size 432x288 with 1 Axes>"
      ]
     },
     "metadata": {
      "needs_background": "light"
     },
     "output_type": "display_data"
    }
   ],
   "source": [
    "plt.figure()\n",
    "plt.plot(hist.history['acc'], lw=2.0, color='b', label='train')\n",
    "plt.plot(hist.history['val_acc'], lw=2.0, color='r', label='val')\n",
    "plt.title('CNN sentiment')\n",
    "plt.xlabel('Epochs')\n",
    "plt.ylabel('Accuracy')\n",
    "plt.legend(loc='upper left')\n",
    "plt.show()"
   ]
  },
  {
   "cell_type": "code",
   "execution_count": 95,
   "metadata": {},
   "outputs": [],
   "source": [
    "from sklearn.metrics import classification_report\n",
    "report = classification_report(np.argmax(y_test,axis =1), np.argmax(y_pred,axis =1))"
   ]
  },
  {
   "cell_type": "code",
   "execution_count": 96,
   "metadata": {
    "scrolled": true
   },
   "outputs": [
    {
     "name": "stdout",
     "output_type": "stream",
     "text": [
      "              precision    recall  f1-score   support\n",
      "\n",
      "           0       0.46      0.35      0.40       140\n",
      "           1       0.73      0.90      0.81       500\n",
      "           2       0.95      0.76      0.84       400\n",
      "\n",
      "   micro avg       0.77      0.77      0.77      1040\n",
      "   macro avg       0.71      0.67      0.68      1040\n",
      "weighted avg       0.78      0.77      0.76      1040\n",
      "\n"
     ]
    }
   ],
   "source": [
    "print(report)"
   ]
  },
  {
   "cell_type": "code",
   "execution_count": 97,
   "metadata": {},
   "outputs": [
    {
     "data": {
      "image/png": "[encoded data removed]",
      "text/plain": [
       "<Figure size 360x360 with 1 Axes>"
      ]
     },
     "metadata": {
      "needs_background": "light"
     },
     "output_type": "display_data"
    }
   ],
   "source": [
    "import seaborn\n",
    "from sklearn.metrics import confusion_matrix\n",
    "confusion_matrix = confusion_matrix(np.argmax(y_test,axis =1),np.argmax(y_pred,axis =1))\n",
    "matrix_proportions = np.zeros((3,3))\n",
    "for i in range(0,3):\n",
    "    matrix_proportions[i,:] = confusion_matrix[i,:]/float(confusion_matrix[i,:].sum())\n",
    "names=['Hate','Offensive','Neither']\n",
    "confusion_df = pd.DataFrame(matrix_proportions, index=names,columns=names)\n",
    "plt.figure(figsize=(5, 5))\n",
    "seaborn.heatmap(confusion_df,annot=True,annot_kws={\"size\": 12},cmap='YlGnBu',cbar=False, square=True,fmt='.2f')\n",
    "plt.ylabel(r'True categories',fontsize=14)\n",
    "plt.xlabel(r'Predicted categories',fontsize=14)\n",
    "plt.tick_params(labelsize=12)"
   ]
  },
  {
   "cell_type": "code",
   "execution_count": null,
   "metadata": {},
   "outputs": [],
   "source": []
  },
  {
   "cell_type": "code",
   "execution_count": null,
   "metadata": {},
   "outputs": [],
   "source": []
  },
  {
   "cell_type": "code",
   "execution_count": null,
   "metadata": {},
   "outputs": [],
   "source": []
  },
  {
   "cell_type": "code",
   "execution_count": null,
   "metadata": {},
   "outputs": [],
   "source": []
  },
  {
   "cell_type": "code",
   "execution_count": null,
   "metadata": {},
   "outputs": [],
   "source": []
  },
  {
   "cell_type": "code",
   "execution_count": 34,
   "metadata": {},
   "outputs": [],
   "source": [
    "import os\n",
    "import re\n",
    "import csv\n",
    "import codecs\n",
    "import numpy as np\n",
    "import pandas as pd\n",
    "\n",
    "from nltk.corpus import stopwords\n",
    "from nltk.stem import SnowballStemmer\n",
    "from string import punctuation\n",
    "\n",
    "from gensim.models import KeyedVectors\n",
    "from keras.preprocessing.text import Tokenizer\n",
    "from keras.preprocessing.sequence import pad_sequences\n",
    "from keras.layers import Dense, Input, LSTM, Embedding, Dropout, Activation\n",
    "from keras.layers.merge import concatenate\n",
    "from keras.models import Model\n",
    "from keras.layers.normalization import BatchNormalization\n",
    "from keras.callbacks import EarlyStopping, ModelCheckpoint\n",
    "\n",
    "\n",
    "from keras import backend as K\n",
    "from keras.engine.topology import Layer\n",
    "from keras import initializers, regularizers, constraints\n",
    "from keras.layers import LSTM, Bidirectional, Dropout\n",
    "\n",
    "\n",
    "class Attention(Layer):\n",
    "    def __init__(self, step_dim,\n",
    "                 W_regularizer=None, b_regularizer=None,\n",
    "                 W_constraint=None, b_constraint=None,\n",
    "                 bias=True, **kwargs):\n",
    "        self.supports_masking = True\n",
    "        self.init = initializers.get('glorot_uniform')\n",
    "\n",
    "        self.W_regularizer = regularizers.get(W_regularizer)\n",
    "        self.b_regularizer = regularizers.get(b_regularizer)\n",
    "\n",
    "        self.W_constraint = constraints.get(W_constraint)\n",
    "        self.b_constraint = constraints.get(b_constraint)\n",
    "\n",
    "        self.bias = bias\n",
    "        self.step_dim = step_dim\n",
    "        self.features_dim = 0\n",
    "        super(Attention, self).__init__(**kwargs)\n",
    "\n",
    "    def build(self, input_shape):\n",
    "        assert len(input_shape) == 3\n",
    "\n",
    "        self.W = self.add_weight((input_shape[-1],),\n",
    "                                 initializer=self.init,\n",
    "                                 name='{}_W'.format(self.name),\n",
    "                                 regularizer=self.W_regularizer,\n",
    "                                 constraint=self.W_constraint)\n",
    "        self.features_dim = input_shape[-1]\n",
    "\n",
    "        if self.bias:\n",
    "            self.b = self.add_weight((input_shape[1],),\n",
    "                                     initializer='zero',\n",
    "                                     name='{}_b'.format(self.name),\n",
    "                                     regularizer=self.b_regularizer,\n",
    "                                     constraint=self.b_constraint)\n",
    "        else:\n",
    "            self.b = None\n",
    "\n",
    "        self.built = True\n",
    "\n",
    "    def compute_mask(self, input, input_mask=None):\n",
    "        return None\n",
    "\n",
    "    def call(self, x, mask=None):\n",
    "        features_dim = self.features_dim\n",
    "        step_dim = self.step_dim\n",
    "\n",
    "        eij = K.reshape(K.dot(K.reshape(x, (-1, features_dim)),\n",
    "                        K.reshape(self.W, (features_dim, 1))), (-1, step_dim))\n",
    "\n",
    "        if self.bias:\n",
    "            eij += self.b\n",
    "\n",
    "        eij = K.tanh(eij)\n",
    "\n",
    "        a = K.exp(eij)\n",
    "\n",
    "        if mask is not None:\n",
    "            a *= K.cast(mask, K.floatx())\n",
    "\n",
    "        a /= K.cast(K.sum(a, axis=1, keepdims=True) + K.epsilon(), K.floatx())\n",
    "\n",
    "        a = K.expand_dims(a)\n",
    "        weighted_input = x * a\n",
    "        return K.sum(weighted_input, axis=1)\n",
    "\n",
    "    def compute_output_shape(self, input_shape):\n",
    "        return input_shape[0],  self.features_dim\n",
    "    \n",
    "\n",
    "\n",
    "def LsTM(embeddings, max_sequence_length, num_words, embedding_dim, labels_index, trainable=False):\n",
    "    \n",
    "        #パラメータ\n",
    "    act = 'relu'\n",
    "    re_weight = True\n",
    "    num_lstm = 300\n",
    "    num_dense = 150\n",
    "    \n",
    "    sequence_1_input = Input(shape=(max_sequence_length,), dtype='int32')\n",
    "    \n",
    "    embedding_layer = Embedding(num_words,\n",
    "                            embedding_dim,\n",
    "                            weights=[embeddings],\n",
    "                            input_length=max_sequence_length,\n",
    "                            trainable=trainable)\n",
    "    \n",
    "    embedded_sequences_1 = embedding_layer(sequence_1_input)\n",
    "    \n",
    "    lstm_layer = LSTM(num_lstm,return_sequences=True)\n",
    "    \n",
    "    x1 = lstm_layer(embedded_sequences_1)\n",
    "    \n",
    "    merged = Attention(max_sequence_length)(x1)\n",
    "\n",
    "    merged = Dense(num_dense, activation=act)(merged)\n",
    "\n",
    "    preds = Dense(3, activation='softmax')(merged)\n",
    "\n",
    "\n",
    "    model = Model(sequence_1_input, preds)\n",
    "    model.compile(loss='categorical_crossentropy',\n",
    "                  optimizer='adam',\n",
    "                  metrics=['acc'])\n",
    "    model.summary()\n",
    "    return model"
   ]
  },
  {
   "cell_type": "code",
   "execution_count": 35,
   "metadata": {},
   "outputs": [
    {
     "name": "stdout",
     "output_type": "stream",
     "text": [
      "_________________________________________________________________\n",
      "Layer (type)                 Output Shape              Param #   \n",
      "=================================================================\n",
      "input_1 (InputLayer)         (None, 83)                0         \n",
      "_________________________________________________________________\n",
      "embedding_1 (Embedding)      (None, 83, 300)           6361800   \n",
      "_________________________________________________________________\n",
      "lstm_1 (LSTM)                (None, 83, 300)           721200    \n",
      "_________________________________________________________________\n",
      "attention_1 (Attention)      (None, 300)               383       \n",
      "_________________________________________________________________\n",
      "dense_1 (Dense)              (None, 150)               45150     \n",
      "_________________________________________________________________\n",
      "dense_2 (Dense)              (None, 3)                 453       \n",
      "=================================================================\n",
      "Total params: 7,128,986\n",
      "Trainable params: 767,186\n",
      "Non-trainable params: 6,361,800\n",
      "_________________________________________________________________\n"
     ]
    }
   ],
   "source": [
    "model = LsTM(train_embedding_weights, MAX_SEQUENCE_LENGTH, len(train_word_index)+1, EMBEDDING_DIM, \n",
    "                len(list(label_names)), False)"
   ]
  },
  {
   "cell_type": "code",
   "execution_count": 94,
   "metadata": {},
   "outputs": [
    {
     "name": "stdout",
     "output_type": "stream",
     "text": [
      "Train on 62640 samples, validate on 6960 samples\n",
      "Epoch 1/10\n",
      "62640/62640 [==============================] - 285s 5ms/step - loss: 0.0318 - acc: 0.9908 - val_loss: 0.0078 - val_acc: 0.9990\n",
      "Epoch 2/10\n",
      "62640/62640 [==============================] - 289s 5ms/step - loss: 0.0252 - acc: 0.9931 - val_loss: 0.0201 - val_acc: 0.9953\n",
      "Epoch 3/10\n",
      "62640/62640 [==============================] - 297s 5ms/step - loss: 0.0244 - acc: 0.9929 - val_loss: 0.0229 - val_acc: 0.9941\n",
      "Epoch 4/10\n",
      "62640/62640 [==============================] - 313s 5ms/step - loss: 0.0200 - acc: 0.9944 - val_loss: 0.0271 - val_acc: 0.9922\n",
      "Epoch 5/10\n",
      "62640/62640 [==============================] - 295s 5ms/step - loss: 0.0206 - acc: 0.9937 - val_loss: 0.0122 - val_acc: 0.9954\n",
      "Epoch 6/10\n",
      "62640/62640 [==============================] - 298s 5ms/step - loss: 0.0134 - acc: 0.9964 - val_loss: 0.0036 - val_acc: 0.9994\n",
      "Epoch 7/10\n",
      "62640/62640 [==============================] - 283s 5ms/step - loss: 0.0193 - acc: 0.9939 - val_loss: 0.0135 - val_acc: 0.9955\n",
      "Epoch 8/10\n",
      "62640/62640 [==============================] - 303s 5ms/step - loss: 0.0197 - acc: 0.9941 - val_loss: 0.0154 - val_acc: 0.9955\n",
      "Epoch 9/10\n",
      "62640/62640 [==============================] - 304s 5ms/step - loss: 0.0093 - acc: 0.9975 - val_loss: 0.0066 - val_acc: 0.9989\n",
      "Epoch 10/10\n",
      "62640/62640 [==============================] - 291s 5ms/step - loss: 0.0083 - acc: 0.9977 - val_loss: 9.5236e-04 - val_acc: 0.9999\n"
     ]
    }
   ],
   "source": [
    "hist = model.fit(x_train, y_train, epochs=10,  validation_split=0.1,shuffle=True, batch_size=batch_size,verbose=1)"
   ]
  },
  {
   "cell_type": "code",
   "execution_count": 95,
   "metadata": {},
   "outputs": [
    {
     "name": "stdout",
     "output_type": "stream",
     "text": [
      "1040/1040 [==============================] - 2s 2ms/step\n"
     ]
    }
   ],
   "source": [
    "y_pred = model.predict(x_test, batch_size=1024, verbose=1)"
   ]
  },
  {
   "cell_type": "code",
   "execution_count": 96,
   "metadata": {},
   "outputs": [],
   "source": [
    "submission_df = pd.DataFrame(columns=['id'] + label_names)\n",
    "submission_df['id'] = test_comments.index.values \n",
    "submission_df[label_names] = y_pred \n",
    "submission_df.to_csv(\"./lstm_submission.csv\", index=False)"
   ]
  },
  {
   "cell_type": "code",
   "execution_count": 97,
   "metadata": {},
   "outputs": [],
   "source": [
    "from sklearn.metrics import classification_report\n",
    "report = classification_report(np.argmax(y_test,axis =1), np.argmax(y_pred,axis =1))"
   ]
  },
  {
   "cell_type": "code",
   "execution_count": 98,
   "metadata": {},
   "outputs": [
    {
     "name": "stdout",
     "output_type": "stream",
     "text": [
      "              precision    recall  f1-score   support\n",
      "\n",
      "           0       0.61      0.34      0.43       140\n",
      "           1       0.78      0.93      0.85       500\n",
      "           2       0.94      0.86      0.90       400\n",
      "\n",
      "   micro avg       0.82      0.82      0.82      1040\n",
      "   macro avg       0.78      0.71      0.73      1040\n",
      "weighted avg       0.82      0.82      0.81      1040\n",
      "\n"
     ]
    }
   ],
   "source": [
    "print(report)"
   ]
  },
  {
   "cell_type": "code",
   "execution_count": 99,
   "metadata": {},
   "outputs": [
    {
     "data": {
      "image/png": "[encoded data removed]",
      "text/plain": [
       "<Figure size 360x360 with 1 Axes>"
      ]
     },
     "metadata": {
      "needs_background": "light"
     },
     "output_type": "display_data"
    }
   ],
   "source": [
    "import seaborn\n",
    "from sklearn.metrics import confusion_matrix\n",
    "confusion_matrix = confusion_matrix(np.argmax(y_test,axis =1),np.argmax(y_pred,axis =1))\n",
    "matrix_proportions = np.zeros((3,3))\n",
    "for i in range(0,3):\n",
    "    matrix_proportions[i,:] = confusion_matrix[i,:]/float(confusion_matrix[i,:].sum())\n",
    "names=['Hate','Offensive','Neither']\n",
    "confusion_df = pd.DataFrame(matrix_proportions, index=names,columns=names)\n",
    "plt.figure(figsize=(5, 5))\n",
    "seaborn.heatmap(confusion_df,annot=True,annot_kws={\"size\": 12},cmap='YlGnBu',cbar=False, square=True,fmt='.2f')\n",
    "plt.ylabel(r'True categories',fontsize=14)\n",
    "plt.xlabel(r'Predicted categories',fontsize=14)\n",
    "plt.tick_params(labelsize=12)"
   ]
  },
  {
   "cell_type": "code",
   "execution_count": null,
   "metadata": {},
   "outputs": [],
   "source": []
  },
  {
   "cell_type": "code",
   "execution_count": null,
   "metadata": {},
   "outputs": [],
   "source": []
  },
  {
   "cell_type": "code",
   "execution_count": null,
   "metadata": {},
   "outputs": [],
   "source": []
  },
  {
   "cell_type": "code",
   "execution_count": null,
   "metadata": {},
   "outputs": [],
   "source": []
  }
 ],
 "metadata": {
  "kernelspec": {
   "display_name": "Python 3",
   "language": "python",
   "name": "python3"
  },
  "language_info": {
   "codemirror_mode": {
    "name": "ipython",
    "version": 3
   },
   "file_extension": ".py",
   "mimetype": "text/x-python",
   "name": "python",
   "nbconvert_exporter": "python",
   "pygments_lexer": "ipython3",
   "version": "3.6.8"
  }
 },
 "nbformat": 4,
 "nbformat_minor": 2
}
